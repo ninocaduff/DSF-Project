{
 "cells": [
  {
   "cell_type": "code",
   "execution_count": 2,
   "id": "a8fce688",
   "metadata": {},
   "outputs": [],
   "source": [
    "import numpy as np\n",
    "import pandas as pd\n",
    "import matplotlib.pyplot as plt\n",
    "from sklearn.preprocessing import RobustScaler, StandardScaler\n",
    "from sklearn.model_selection import train_test_split\n",
    "from sklearn.linear_model import LassoCV, Lasso, LinearRegression, RidgeCV, Ridge\n",
    "from sklearn.metrics import mean_squared_error, r2_score\n",
    "from sklearn.feature_selection import SelectKBest, f_regression\n"
   ]
  },
  {
   "cell_type": "code",
   "execution_count": 3,
   "id": "8df613d6",
   "metadata": {},
   "outputs": [],
   "source": [
    "df = pd.read_csv('train_poly.csv')\n",
    "\n",
    "# Splitting the data into features and target variable\n",
    "X = df.drop(['NO2_tomorrow', 'Datum', 'Street', 'Unnamed: 0'], axis=1)  # Excluding target and categorical columns\n",
    "y = df['NO2_tomorrow']"
   ]
  },
  {
   "cell_type": "code",
   "execution_count": 16,
   "id": "ddceeebf",
   "metadata": {},
   "outputs": [
    {
     "name": "stdout",
     "output_type": "stream",
     "text": [
      "Optimales Alpha: 0.014526031733300162\n"
     ]
    },
    {
     "name": "stderr",
     "output_type": "stream",
     "text": [
      "/Users/jonahnguyen/anaconda3/lib/python3.11/site-packages/sklearn/linear_model/_coordinate_descent.py:628: ConvergenceWarning: Objective did not converge. You might want to increase the number of iterations, check the scale of the features or consider increasing regularisation. Duality gap: 2.569e+03, tolerance: 2.107e+02\n",
      "  model = cd_fast.enet_coordinate_descent(\n"
     ]
    },
    {
     "ename": "KeyError",
     "evalue": "\"['target'] not found in axis\"",
     "output_type": "error",
     "traceback": [
      "\u001b[0;31m---------------------------------------------------------------------------\u001b[0m",
      "\u001b[0;31mKeyError\u001b[0m                                  Traceback (most recent call last)",
      "Cell \u001b[0;32mIn[16], line 21\u001b[0m\n\u001b[1;32m     18\u001b[0m lasso\u001b[38;5;241m.\u001b[39mfit(X_train, y_train)\n\u001b[1;32m     20\u001b[0m \u001b[38;5;66;03m# Identifizierung der wichtigen Merkmale\u001b[39;00m\n\u001b[0;32m---> 21\u001b[0m important_features \u001b[38;5;241m=\u001b[39m [feature \u001b[38;5;28;01mfor\u001b[39;00m feature, coef \u001b[38;5;129;01min\u001b[39;00m \u001b[38;5;28mzip\u001b[39m(df\u001b[38;5;241m.\u001b[39mdrop(\u001b[38;5;124m'\u001b[39m\u001b[38;5;124mtarget\u001b[39m\u001b[38;5;124m'\u001b[39m, axis\u001b[38;5;241m=\u001b[39m\u001b[38;5;241m1\u001b[39m)\u001b[38;5;241m.\u001b[39mcolumns, lasso\u001b[38;5;241m.\u001b[39mcoef_) \u001b[38;5;28;01mif\u001b[39;00m coef \u001b[38;5;241m!=\u001b[39m \u001b[38;5;241m0\u001b[39m]\n\u001b[1;32m     22\u001b[0m \u001b[38;5;28mprint\u001b[39m(\u001b[38;5;124m'\u001b[39m\u001b[38;5;124mWichtige Merkmale:\u001b[39m\u001b[38;5;124m'\u001b[39m, important_features)\n",
      "File \u001b[0;32m~/anaconda3/lib/python3.11/site-packages/pandas/core/frame.py:5258\u001b[0m, in \u001b[0;36mDataFrame.drop\u001b[0;34m(self, labels, axis, index, columns, level, inplace, errors)\u001b[0m\n\u001b[1;32m   5110\u001b[0m \u001b[38;5;28;01mdef\u001b[39;00m \u001b[38;5;21mdrop\u001b[39m(\n\u001b[1;32m   5111\u001b[0m     \u001b[38;5;28mself\u001b[39m,\n\u001b[1;32m   5112\u001b[0m     labels: IndexLabel \u001b[38;5;241m=\u001b[39m \u001b[38;5;28;01mNone\u001b[39;00m,\n\u001b[0;32m   (...)\u001b[0m\n\u001b[1;32m   5119\u001b[0m     errors: IgnoreRaise \u001b[38;5;241m=\u001b[39m \u001b[38;5;124m\"\u001b[39m\u001b[38;5;124mraise\u001b[39m\u001b[38;5;124m\"\u001b[39m,\n\u001b[1;32m   5120\u001b[0m ) \u001b[38;5;241m-\u001b[39m\u001b[38;5;241m>\u001b[39m DataFrame \u001b[38;5;241m|\u001b[39m \u001b[38;5;28;01mNone\u001b[39;00m:\n\u001b[1;32m   5121\u001b[0m \u001b[38;5;250m    \u001b[39m\u001b[38;5;124;03m\"\"\"\u001b[39;00m\n\u001b[1;32m   5122\u001b[0m \u001b[38;5;124;03m    Drop specified labels from rows or columns.\u001b[39;00m\n\u001b[1;32m   5123\u001b[0m \n\u001b[0;32m   (...)\u001b[0m\n\u001b[1;32m   5256\u001b[0m \u001b[38;5;124;03m            weight  1.0     0.8\u001b[39;00m\n\u001b[1;32m   5257\u001b[0m \u001b[38;5;124;03m    \"\"\"\u001b[39;00m\n\u001b[0;32m-> 5258\u001b[0m     \u001b[38;5;28;01mreturn\u001b[39;00m \u001b[38;5;28msuper\u001b[39m()\u001b[38;5;241m.\u001b[39mdrop(\n\u001b[1;32m   5259\u001b[0m         labels\u001b[38;5;241m=\u001b[39mlabels,\n\u001b[1;32m   5260\u001b[0m         axis\u001b[38;5;241m=\u001b[39maxis,\n\u001b[1;32m   5261\u001b[0m         index\u001b[38;5;241m=\u001b[39mindex,\n\u001b[1;32m   5262\u001b[0m         columns\u001b[38;5;241m=\u001b[39mcolumns,\n\u001b[1;32m   5263\u001b[0m         level\u001b[38;5;241m=\u001b[39mlevel,\n\u001b[1;32m   5264\u001b[0m         inplace\u001b[38;5;241m=\u001b[39minplace,\n\u001b[1;32m   5265\u001b[0m         errors\u001b[38;5;241m=\u001b[39merrors,\n\u001b[1;32m   5266\u001b[0m     )\n",
      "File \u001b[0;32m~/anaconda3/lib/python3.11/site-packages/pandas/core/generic.py:4549\u001b[0m, in \u001b[0;36mNDFrame.drop\u001b[0;34m(self, labels, axis, index, columns, level, inplace, errors)\u001b[0m\n\u001b[1;32m   4547\u001b[0m \u001b[38;5;28;01mfor\u001b[39;00m axis, labels \u001b[38;5;129;01min\u001b[39;00m axes\u001b[38;5;241m.\u001b[39mitems():\n\u001b[1;32m   4548\u001b[0m     \u001b[38;5;28;01mif\u001b[39;00m labels \u001b[38;5;129;01mis\u001b[39;00m \u001b[38;5;129;01mnot\u001b[39;00m \u001b[38;5;28;01mNone\u001b[39;00m:\n\u001b[0;32m-> 4549\u001b[0m         obj \u001b[38;5;241m=\u001b[39m obj\u001b[38;5;241m.\u001b[39m_drop_axis(labels, axis, level\u001b[38;5;241m=\u001b[39mlevel, errors\u001b[38;5;241m=\u001b[39merrors)\n\u001b[1;32m   4551\u001b[0m \u001b[38;5;28;01mif\u001b[39;00m inplace:\n\u001b[1;32m   4552\u001b[0m     \u001b[38;5;28mself\u001b[39m\u001b[38;5;241m.\u001b[39m_update_inplace(obj)\n",
      "File \u001b[0;32m~/anaconda3/lib/python3.11/site-packages/pandas/core/generic.py:4591\u001b[0m, in \u001b[0;36mNDFrame._drop_axis\u001b[0;34m(self, labels, axis, level, errors, only_slice)\u001b[0m\n\u001b[1;32m   4589\u001b[0m         new_axis \u001b[38;5;241m=\u001b[39m axis\u001b[38;5;241m.\u001b[39mdrop(labels, level\u001b[38;5;241m=\u001b[39mlevel, errors\u001b[38;5;241m=\u001b[39merrors)\n\u001b[1;32m   4590\u001b[0m     \u001b[38;5;28;01melse\u001b[39;00m:\n\u001b[0;32m-> 4591\u001b[0m         new_axis \u001b[38;5;241m=\u001b[39m axis\u001b[38;5;241m.\u001b[39mdrop(labels, errors\u001b[38;5;241m=\u001b[39merrors)\n\u001b[1;32m   4592\u001b[0m     indexer \u001b[38;5;241m=\u001b[39m axis\u001b[38;5;241m.\u001b[39mget_indexer(new_axis)\n\u001b[1;32m   4594\u001b[0m \u001b[38;5;66;03m# Case for non-unique axis\u001b[39;00m\n\u001b[1;32m   4595\u001b[0m \u001b[38;5;28;01melse\u001b[39;00m:\n",
      "File \u001b[0;32m~/anaconda3/lib/python3.11/site-packages/pandas/core/indexes/base.py:6699\u001b[0m, in \u001b[0;36mIndex.drop\u001b[0;34m(self, labels, errors)\u001b[0m\n\u001b[1;32m   6697\u001b[0m \u001b[38;5;28;01mif\u001b[39;00m mask\u001b[38;5;241m.\u001b[39many():\n\u001b[1;32m   6698\u001b[0m     \u001b[38;5;28;01mif\u001b[39;00m errors \u001b[38;5;241m!=\u001b[39m \u001b[38;5;124m\"\u001b[39m\u001b[38;5;124mignore\u001b[39m\u001b[38;5;124m\"\u001b[39m:\n\u001b[0;32m-> 6699\u001b[0m         \u001b[38;5;28;01mraise\u001b[39;00m \u001b[38;5;167;01mKeyError\u001b[39;00m(\u001b[38;5;124mf\u001b[39m\u001b[38;5;124m\"\u001b[39m\u001b[38;5;132;01m{\u001b[39;00m\u001b[38;5;28mlist\u001b[39m(labels[mask])\u001b[38;5;132;01m}\u001b[39;00m\u001b[38;5;124m not found in axis\u001b[39m\u001b[38;5;124m\"\u001b[39m)\n\u001b[1;32m   6700\u001b[0m     indexer \u001b[38;5;241m=\u001b[39m indexer[\u001b[38;5;241m~\u001b[39mmask]\n\u001b[1;32m   6701\u001b[0m \u001b[38;5;28;01mreturn\u001b[39;00m \u001b[38;5;28mself\u001b[39m\u001b[38;5;241m.\u001b[39mdelete(indexer)\n",
      "\u001b[0;31mKeyError\u001b[0m: \"['target'] not found in axis\""
     ]
    }
   ],
   "source": [
    "# Standardisierung der Features\n",
    "scaler = StandardScaler()\n",
    "X_scaled = scaler.fit_transform(X)\n",
    "\n",
    "# Aufteilung in Trainings- und Testdatensätze\n",
    "X_train, X_test, y_train, y_test = train_test_split(X_scaled, y, test_size=0.2, random_state=42)\n",
    "\n",
    "# Initialisierung von LassoCV\n",
    "lasso_cv = LassoCV(alphas=None, cv=10, max_iter=2000000000)\n",
    "\n",
    "# Training des LassoCV-Modells und Finden des optimalen Alpha\n",
    "lasso_cv.fit(X_train, y_train)\n",
    "optimal_alpha = lasso_cv.alpha_\n",
    "print('Optimales Alpha:', optimal_alpha)\n",
    "\n",
    "# Training des Lasso-Modells mit dem optimalen Alpha-Wert\n",
    "lasso = Lasso(alpha=optimal_alpha)\n",
    "lasso.fit(X_train, y_train)\n",
    "\n",
    "# Identifizierung der wichtigen Merkmale\n",
    "important_features = [feature for feature, coef in zip(df.drop('target', axis=1).columns, lasso.coef_) if coef != 0]\n",
    "print('Wichtige Merkmale:', important_features)\n"
   ]
  },
  {
   "cell_type": "code",
   "execution_count": 8,
   "id": "4c59bfac",
   "metadata": {},
   "outputs": [
    {
     "name": "stdout",
     "output_type": "stream",
     "text": [
      "Optimales Alpha für Ridge: 1e-06\n",
      "Koeffizienten des Ridge-Modells: [ 1.00315516e+01  2.65906653e+03  2.41397689e+02 -9.99287233e+01\n",
      "  1.74421095e+02 -6.01198039e+03 -4.05304259e+01  4.05772990e+02\n",
      " -1.61469538e+01  3.04224563e+00 -2.14500310e+02 -4.16684078e+00\n",
      "  9.66794472e+01  3.54613657e+00  1.17489072e+00 -1.99785330e+00\n",
      " -1.76903621e+02  3.35125840e+03  4.00836569e+01 -4.09817965e+02]\n",
      "Wichtige Merkmale aus Ridge (basierend auf einem Schwellenwert): ['NO', 'TotalDailyTraffic NO', 'TotalDailyTraffic PM10', 'NO PM10', 'NO p', 'NO Hr', 'TotalDailyTraffic NO p', 'NO PM10 p', 'NO p^2', 'NO p Hr']\n"
     ]
    }
   ],
   "source": [
    "# Angenommen, selected_features und df sind bereits definiert\n",
    "X_selected = df[selected_features]\n",
    "\n",
    "# Standardisierung der ausgewählten Features\n",
    "scaler = StandardScaler()\n",
    "X_selected_scaled = scaler.fit_transform(X_selected)\n",
    "\n",
    "# Aufteilung in Trainings- und Testdatensätze\n",
    "X_train, X_test, y_train, y_test = train_test_split(X_selected_scaled, y, test_size=0.2, random_state=42)\n",
    "\n",
    "# Initialisierung von RidgeCV\n",
    "# Hier können Sie die Alphas anpassen, um verschiedene Regularisierungsstärken zu testen\n",
    "ridge_cv = RidgeCV(alphas=np.logspace(-6, 6, 13), cv=10)\n",
    "\n",
    "# Training des RidgeCV-Modells und Finden des optimalen Alpha\n",
    "ridge_cv.fit(X_train, y_train)\n",
    "optimal_alpha_ridge = ridge_cv.alpha_\n",
    "print('Optimales Alpha für Ridge:', optimal_alpha_ridge)\n",
    "\n",
    "# Training des Ridge-Modells mit dem optimalen Alpha-Wert\n",
    "ridge = Ridge(alpha=optimal_alpha_ridge)\n",
    "ridge.fit(X_train, y_train)\n",
    "\n",
    "# Training des Ridge-Modells mit dem optimalen Alpha-Wert\n",
    "ridge = Ridge(alpha=optimal_alpha_ridge)\n",
    "ridge.fit(X_train, y_train)\n",
    "\n",
    "\n",
    "# Da Ridge nicht direkt zur Feature-Auswahl verwendet wird, betrachten wir die Koeffizienten\n",
    "ridge_coefficients = ridge.coef_\n",
    "threshold_value = np.median(np.abs(ridge_coefficients))\n",
    "\n",
    "# Sie können die Koeffizienten ausdrucken, um ihre Größe zu sehen\n",
    "print('Koeffizienten des Ridge-Modells:', ridge_coefficients)\n",
    "\n",
    "# Optional: Sie können die Merkmale mit den größten absoluten Koeffizienten auswählen\n",
    "important_features_from_ridge = [feature for feature, coef in zip(selected_features, ridge_coefficients) if abs(coef) > threshold_value]\n",
    "print('Wichtige Merkmale aus Ridge (basierend auf einem Schwellenwert):', important_features_from_ridge)\n"
   ]
  },
  {
   "cell_type": "code",
   "execution_count": 9,
   "id": "f3de6f65",
   "metadata": {},
   "outputs": [
    {
     "name": "stdout",
     "output_type": "stream",
     "text": [
      "MSE (Linear Regression): 131.41594716945735\n",
      "R2 Score (Linear Regression): 0.4549857484414349\n"
     ]
    }
   ],
   "source": [
    "# Beschränken Sie den DataFrame auf die durch Ridge identifizierten wichtigen Features\n",
    "X_important_ridge = df[important_features_from_ridge]\n",
    "\n",
    "# Standardisierung der ausgewählten Features\n",
    "scaler = StandardScaler()\n",
    "X_important_ridge_scaled = scaler.fit_transform(X_important_ridge)\n",
    "\n",
    "# Aufteilung in Trainings- und Testdatensätze\n",
    "X_train_important, X_test_important, y_train, y_test = train_test_split(X_important_ridge_scaled, y, test_size=0.2, random_state=42)\n",
    "\n",
    "# Initialisierung und Training des linearen Regressionsmodells\n",
    "lin_reg = LinearRegression()\n",
    "lin_reg.fit(X_train_important, y_train)\n",
    "\n",
    "# Vorhersagen und Bewertung für das lineare Regressionsmodell\n",
    "y_pred_lin_reg = lin_reg.predict(X_test_important)\n",
    "mse_lin_reg = mean_squared_error(y_test, y_pred_lin_reg)\n",
    "r2_lin_reg = r2_score(y_test, y_pred_lin_reg)\n",
    "\n",
    "print(\"MSE (Linear Regression):\", mse_lin_reg)\n",
    "print(\"R2 Score (Linear Regression):\", r2_lin_reg)\n"
   ]
  },
  {
   "cell_type": "code",
   "execution_count": 10,
   "id": "638a11ed",
   "metadata": {},
   "outputs": [
    {
     "name": "stdout",
     "output_type": "stream",
     "text": [
      "MSE (Linear Regression): 106.77552244601225\n",
      "R2 Score (Linear Regression): 0.5571756494997652\n"
     ]
    }
   ],
   "source": [
    "# Beschränken Sie den DataFrame auf die durch Lasso identifizierten wichtigen Features\n",
    "X_important_lasso = df[important_features_from_selected]\n",
    "\n",
    "# Standardisierung der ausgewählten Features\n",
    "scaler = StandardScaler()\n",
    "X_important_lasso_scaled = scaler.fit_transform(X_important_lasso)\n",
    "\n",
    "# Aufteilung in Trainings- und Testdatensätze\n",
    "X_train_important, X_test_important, y_train, y_test = train_test_split(X_important_lasso_scaled, y, test_size=0.2, random_state=42)\n",
    "\n",
    "# Initialisierung und Training des linearen Regressionsmodells\n",
    "lin_reg = LinearRegression()\n",
    "lin_reg.fit(X_train_important, y_train)\n",
    "\n",
    "# Vorhersagen und Bewertung für das lineare Regressionsmodell\n",
    "y_pred_lin_reg = lin_reg.predict(X_test_important)\n",
    "mse_lin_reg = mean_squared_error(y_test, y_pred_lin_reg)\n",
    "r2_lin_reg = r2_score(y_test, y_pred_lin_reg)\n",
    "\n",
    "print(\"MSE (Linear Regression):\", mse_lin_reg)\n",
    "print(\"R2 Score (Linear Regression):\", r2_lin_reg)\n"
   ]
  },
  {
   "cell_type": "code",
   "execution_count": 14,
   "id": "562e9d14",
   "metadata": {},
   "outputs": [
    {
     "name": "stdout",
     "output_type": "stream",
     "text": [
      "Optimales Alpha (Lasso): 0.014526031733300162\n"
     ]
    },
    {
     "name": "stderr",
     "output_type": "stream",
     "text": [
      "/Users/jonahnguyen/anaconda3/lib/python3.11/site-packages/sklearn/linear_model/_coordinate_descent.py:628: ConvergenceWarning: Objective did not converge. You might want to increase the number of iterations, check the scale of the features or consider increasing regularisation. Duality gap: 2.569e+03, tolerance: 2.107e+02\n",
      "  model = cd_fast.enet_coordinate_descent(\n"
     ]
    },
    {
     "name": "stdout",
     "output_type": "stream",
     "text": [
      "Wichtige Merkmale (Lasso): ['index', 'NO2', 'Apr', 'Aug', 'Feb', 'Jan', 'Jul', 'Jun', 'May', 'Nov', 'Oct', 'Sep', 'Weekday_0', 'Weekday_1', 'Weekday_2', 'Weekday_3', 'Weekday_4', 'Weekday_5', '1.5km_green', '1km_green', 'PM10', 'T', 'TotalDailyTraffic WVv', 'NO WVv', 'O3_max_h1 RainDur', 'PM10^2', 'PM10 T', 'PM10 WVv', 'T WD', 'p^2', 'p WVv', 'TotalDailyTraffic NO O3', 'TotalDailyTraffic NO PM10', 'TotalDailyTraffic NO WVv', 'TotalDailyTraffic O3 WVv', 'TotalDailyTraffic O3_max_h1^2', 'TotalDailyTraffic O3_max_h1 PM10', 'TotalDailyTraffic O3_nb_h1>120 PM10', 'TotalDailyTraffic O3_nb_h1>120 RainDur', 'TotalDailyTraffic O3_nb_h1>120 WVv', 'TotalDailyTraffic PM10 RainDur', 'TotalDailyTraffic PM10 T', 'TotalDailyTraffic PM10 WD', 'TotalDailyTraffic PM10 WVv', 'TotalDailyTraffic RainDur^2', 'TotalDailyTraffic T WD', 'TotalDailyTraffic T WVv', 'TotalDailyTraffic p WVv', 'TotalDailyTraffic p Hr', 'TotalDailyTraffic WD^2', 'TotalDailyTraffic WD WVv', 'TotalDailyTraffic WVv^2', 'NO^2 O3', 'NO^2 O3_nb_h1>120', 'NO^2 RainDur', 'NO O3 PM10', 'NO O3 WVv', 'NO O3_max_h1^2', 'NO O3_max_h1 RainDur', 'NO O3_max_h1 T', 'NO O3_max_h1 WVv', 'NO O3_nb_h1>120^2', 'NO O3_nb_h1>120 RainDur', 'NO O3_nb_h1>120 WVv', 'NO PM10 RainDur', 'NO PM10 T', 'NO RainDur^2', 'NO T^2', 'NO T Hr', 'NO WD WVv', 'NO WVv^2', 'O3^2 WD', 'O3^2 WVv', 'O3 PM10^2', 'O3 PM10 T', 'O3 T^2', 'O3 T Hr', 'O3 p WD', 'O3 WD^2', 'O3 WD Hr', 'O3_max_h1^2 PM10', 'O3_max_h1^2 RainDur', 'O3_max_h1^2 WD', 'O3_max_h1^2 Hr', 'O3_max_h1 PM10 WD', 'O3_max_h1 PM10 WVv', 'O3_max_h1 RainDur T', 'O3_max_h1 T WD', 'O3_max_h1 T WVv', 'O3_max_h1 WD WVv', 'O3_max_h1 WVv Hr', 'O3_max_h1 Hr^2', 'O3_nb_h1>120^2 RainDur', 'O3_nb_h1>120 PM10^2', 'O3_nb_h1>120 PM10 RainDur', 'O3_nb_h1>120 PM10 p', 'O3_nb_h1>120 RainDur^2', 'O3_nb_h1>120 p^2', 'PM10^3', 'PM10^2 p', 'PM10^2 WVv', 'PM10 RainDur^2', 'PM10 RainDur T', 'PM10 RainDur WVv', 'PM10 p WVv', 'PM10 WD^2', 'PM10 WD WVv', 'RainDur^2 WVv', 'RainDur T WVv', 'RainDur WD^2', 'RainDur Hr^2', 'T^2 WVv', 'T WVv Hr', 'p^3', 'p^2 WVv', 'p^2 Hr', 'WVv^3']\n",
      "MSE (Linear Regression): 75.25546447336829\n",
      "R2 Score (Linear Regression): 0.6878970815257537\n"
     ]
    }
   ],
   "source": [
    "from sklearn.linear_model import LassoCV, Lasso, RidgeCV, Ridge, LinearRegression\n",
    "from sklearn.model_selection import train_test_split\n",
    "from sklearn.preprocessing import StandardScaler\n",
    "from sklearn.metrics import mean_squared_error, r2_score\n",
    "import pandas as pd\n",
    "import numpy as np\n",
    "\n",
    "# Laden Sie Ihren Datensatz\n",
    "df = pd.read_csv('train_poly.csv')\n",
    "\n",
    "# Splitting the data into features and target variable\n",
    "X = df.drop(['NO2_tomorrow', 'Datum', 'Street', 'Unnamed: 0'], axis=1)  # Excluding target and categorical columns\n",
    "y = df['NO2_tomorrow']\n",
    "\n",
    "# Standardisierung der Features für Lasso\n",
    "scaler_lasso = StandardScaler()\n",
    "X_scaled_lasso = scaler_lasso.fit_transform(X)\n",
    "\n",
    "# Aufteilung in Trainings- und Testdatensätze für Lasso\n",
    "X_train_lasso, X_test_lasso, y_train, y_test = train_test_split(X_scaled_lasso, y, test_size=0.2, random_state=42)\n",
    "\n",
    "# Initialisierung von LassoCV\n",
    "lasso_cv = LassoCV(alphas=None, cv=10, max_iter=2000000000)\n",
    "\n",
    "# Training des LassoCV-Modells und Finden des optimalen Alpha\n",
    "lasso_cv.fit(X_train_lasso, y_train)\n",
    "optimal_alpha = lasso_cv.alpha_\n",
    "print('Optimales Alpha (Lasso):', optimal_alpha)\n",
    "\n",
    "# Training des Lasso-Modells mit dem optimalen Alpha-Wert\n",
    "lasso = Lasso(alpha=optimal_alpha)\n",
    "lasso.fit(X_train_lasso, y_train)\n",
    "\n",
    "# Identifizierung der wichtigen Merkmale\n",
    "important_features = [feature for feature, coef in zip(X.columns, lasso.coef_) if coef != 0]\n",
    "print('Wichtige Merkmale (Lasso):', important_features)\n",
    "\n",
    "# Beschränken Sie den DataFrame auf die durch Lasso identifizierten wichtigen Features\n",
    "X_important = X[important_features]\n",
    "\n",
    "# Standardisierung der ausgewählten Features für Ridge\n",
    "scaler_ridge = StandardScaler()\n",
    "X_important_scaled = scaler_ridge.fit_transform(X_important)\n",
    "\n",
    "# Aufteilung in Trainings- und Testdatensätze für Ridge\n",
    "X_train_ridge, X_test_ridge, y_train, y_test = train_test_split(X_important_scaled, y, test_size=0.2, random_state=42)\n",
    "\n",
    "# Initialisierung und Training des linearen Regressionsmodells\n",
    "lin_reg = LinearRegression()\n",
    "lin_reg.fit(X_train_ridge, y_train)\n",
    "\n",
    "# Vorhersagen und Bewertung für das lineare Regressionsmodell\n",
    "y_pred_lin_reg = lin_reg.predict(X_test_ridge)\n",
    "mse_lin_reg = mean_squared_error(y_test, y_pred_lin_reg)\n",
    "r2_lin_reg = r2_score(y_test, y_pred_lin_reg)\n",
    "\n",
    "print(\"MSE (Linear Regression):\", mse_lin_reg)\n",
    "print(\"R2 Score (Linear Regression):\", r2_lin_reg)\n"
   ]
  },
  {
   "cell_type": "code",
   "execution_count": null,
   "id": "c1539a26",
   "metadata": {},
   "outputs": [],
   "source": []
  }
 ],
 "metadata": {
  "kernelspec": {
   "display_name": "Python 3 (ipykernel)",
   "language": "python",
   "name": "python3"
  },
  "language_info": {
   "codemirror_mode": {
    "name": "ipython",
    "version": 3
   },
   "file_extension": ".py",
   "mimetype": "text/x-python",
   "name": "python",
   "nbconvert_exporter": "python",
   "pygments_lexer": "ipython3",
   "version": "3.11.5"
  }
 },
 "nbformat": 4,
 "nbformat_minor": 5
}
