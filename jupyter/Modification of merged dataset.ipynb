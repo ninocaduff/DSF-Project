{
 "cells": [
  {
   "cell_type": "code",
   "execution_count": 20,
   "id": "9e5f441a-65f1-47ac-baea-f40ec06cd051",
   "metadata": {},
   "outputs": [],
   "source": [
    "import pandas as pd"
   ]
  },
  {
   "cell_type": "code",
   "execution_count": 21,
   "id": "51a02fa7-4b43-42f9-90d7-604d6a5e8db2",
   "metadata": {},
   "outputs": [],
   "source": [
    "merged_df = pd.read_csv('finaldata/merged_df.csv')"
   ]
  },
  {
   "cell_type": "code",
   "execution_count": 22,
   "id": "ca016dea-598a-46e7-bfa1-be15b56d0336",
   "metadata": {},
   "outputs": [],
   "source": [
    "merged_df.drop(columns=merged_df[['PM2.5', 'CO', 'SO2', 'PN']], inplace=True)"
   ]
  },
  {
   "cell_type": "code",
   "execution_count": null,
   "id": "d2421b75-78a2-42cd-bc17-bdee557950a6",
   "metadata": {},
   "outputs": [],
   "source": [
    "import matplotlib.pyplot as plt\n",
    "import matplotlib.dates as mdates\n",
    "import pandas as pd\n",
    "\n",
    "# Including 'Street' in the subset for plotting\n",
    "merged_df['Datum'] = pd.to_datetime(merged_df['Datum'])\n",
    "time_series_data_with_street = merged_df[['Datum', 'Street', 'TotalDailyTraffic', 'NO2', 'PM10']]\n",
    "\n",
    "# Function to plot time series for each unique street\n",
    "def plot_time_series_for_streets(data, column, title, color):\n",
    "    streets = data['Street'].unique()\n",
    "    n_streets = len(streets)\n",
    "\n",
    "    # Creating subplots for each street\n",
    "    fig, axs = plt.subplots(n_streets, 1, figsize=(15, 4 * n_streets))\n",
    "\n",
    "    for i, street in enumerate(streets):\n",
    "        street_data = data[data['Street'] == street]\n",
    "        axs[i].plot(street_data['Datum'], street_data[column], label=street, color=color)\n",
    "        axs[i].set_title(f'{title} for {street}')\n",
    "        axs[i].set_xlabel('Date')\n",
    "        axs[i].set_ylabel(column)\n",
    "        axs[i].legend()\n",
    "        axs[i].xaxis.set_major_locator(mdates.YearLocator())\n",
    "        axs[i].xaxis.set_major_formatter(mdates.DateFormatter('%Y'))\n",
    "\n",
    "    # Adjusting layout\n",
    "    plt.tight_layout()\n",
    "\n",
    "    # Showing the plots\n",
    "    plt.show()\n",
    "\n",
    "# Plotting time series for \n",
    "plot_time_series_for_streets(time_series_data_with_street, 'TotalDailyTraffic', 'Total Daily Traffic', 'blue')\n",
    "plot_time_series_for_streets(time_series_data_with_street, 'NO2', 'NO2 Levels', 'red')\n",
    "plot_time_series_for_streets(time_series_data_with_street, 'PM10', 'PM10 Levels', 'green')\n"
   ]
  },
  {
   "cell_type": "code",
   "execution_count": 42,
   "id": "426bff40-d603-4df7-bc58-03967c51d067",
   "metadata": {},
   "outputs": [],
   "source": [
    "meteo_dt = pd.read_csv('finaldata/meteo_dt.csv')"
   ]
  },
  {
   "cell_type": "code",
   "execution_count": null,
   "id": "84da3051-2f14-4003-b41c-e23e23593506",
   "metadata": {},
   "outputs": [],
   "source": [
    "merged_meteo = pd.merge(merged_df, meteo_dt, how=\"left\", on=['Datum', 'Street'])"
   ]
  },
  {
   "cell_type": "code",
   "execution_count": 47,
   "id": "769ac6d1-60ae-4cf7-bf75-fcffdab852b4",
   "metadata": {},
   "outputs": [],
   "source": [
    "merged_meteo = pd.read_csv('finaldata/merged_meteo.csv')\n",
    "merged_meteo.drop(columns=merged_meteo[['Unnamed: 0', 'Year']], inplace=True)\n",
    "merged_meteo['Datum'] = pd.to_datetime(merged_meteo['Datum']).dt.date\n",
    "\n",
    "# Define a function to determine the season for a given date\n",
    "def get_season(date):\n",
    "    month = date.month\n",
    "    if 3 <= month <= 5:\n",
    "        return 'Spring'\n",
    "    elif 6 <= month <= 8:\n",
    "        return 'Summer'\n",
    "    elif 9 <= month <= 11:\n",
    "        return 'Autumn'\n",
    "    else:\n",
    "        # December to February\n",
    "        return 'Winter'\n",
    "\n",
    "# Apply the function to the 'Datum' column to create a new 'Season' column\n",
    "merged_meteo['Season'] = merged_meteo['Datum'].apply(get_season)\n",
    "\n",
    "# Create dummy variables for the 'Season' column\n",
    "season_dummies = pd.get_dummies(merged_meteo['Season'], prefix='Season')\n",
    "\n",
    "# Concatenate the dummy variables with the original DataFrame\n",
    "merged_meteo = pd.concat([merged_meteo, season_dummies], axis=1).drop(columns=['Season'])"
   ]
  },
  {
   "cell_type": "code",
   "execution_count": 48,
   "id": "d89b0bf2-cded-4dd4-bdd8-8b61c63261f6",
   "metadata": {},
   "outputs": [],
   "source": [
    "#merged_meteo.to_csv('finaldata/merged_with_dummies.csv')"
   ]
  }
 ],
 "metadata": {
  "kernelspec": {
   "display_name": "Python 3 (ipykernel)",
   "language": "python",
   "name": "python3"
  },
  "language_info": {
   "codemirror_mode": {
    "name": "ipython",
    "version": 3
   },
   "file_extension": ".py",
   "mimetype": "text/x-python",
   "name": "python",
   "nbconvert_exporter": "python",
   "pygments_lexer": "ipython3",
   "version": "3.10.12"
  }
 },
 "nbformat": 4,
 "nbformat_minor": 5
}
