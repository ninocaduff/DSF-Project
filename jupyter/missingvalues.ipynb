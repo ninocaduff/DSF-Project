{
 "cells": [
  {
   "cell_type": "code",
   "execution_count": 1,
   "metadata": {},
   "outputs": [],
   "source": [
    "import pandas as pd"
   ]
  },
  {
   "cell_type": "code",
   "execution_count": 2,
   "metadata": {},
   "outputs": [],
   "source": [
    "df = pd.read_csv('/Users/fredericksafian/VSCODE/finaldata/merged_with_dummies.csv')"
   ]
  },
  {
   "cell_type": "code",
   "execution_count": 3,
   "metadata": {},
   "outputs": [],
   "source": [
    "# Checking for missing values in the target variable 'NO2_tomorrow'\n",
    "\n",
    "missing_values_target = df['NO2_tomorrow'].isnull().sum() #revealed 708 missing values, we will delete these rows\n",
    "df = df.dropna(subset=['NO2_tomorrow'])"
   ]
  },
  {
   "cell_type": "code",
   "execution_count": 4,
   "metadata": {},
   "outputs": [
    {
     "data": {
      "text/plain": [
       "SO2       64.716781\n",
       "StrGlo    64.663843\n",
       "CO        64.637374\n",
       "PN        49.523557\n",
       "PM2.5     46.797247\n",
       "WVs       35.477325\n",
       "dtype: float64"
      ]
     },
     "execution_count": 4,
     "metadata": {},
     "output_type": "execute_result"
    }
   ],
   "source": [
    "# Checking for columns with a high percentage of missing values\n",
    "\n",
    "missing_values = df.isnull().sum()\n",
    "missing_values_percentage = (missing_values / len(df)) * 100\n",
    "\n",
    "#columns with more than 10% missing values\n",
    "columns_high_missing_values = missing_values_percentage[missing_values_percentage > 10].sort_values(ascending=False)\n",
    "\n",
    "columns_high_missing_values"
   ]
  },
  {
   "cell_type": "code",
   "execution_count": 5,
   "metadata": {},
   "outputs": [],
   "source": [
    "# we will drop these above (and just below) 50% for sure\n",
    "\n",
    "columns_to_drop = ['SO2', 'StrGlo', 'CO', 'PN']\n",
    "df = df.drop(columns=columns_to_drop)"
   ]
  },
  {
   "cell_type": "code",
   "execution_count": null,
   "metadata": {},
   "outputs": [],
   "source": []
  }
 ],
 "metadata": {
  "kernelspec": {
   "display_name": "Python 3",
   "language": "python",
   "name": "python3"
  },
  "language_info": {
   "codemirror_mode": {
    "name": "ipython",
    "version": 3
   },
   "file_extension": ".py",
   "mimetype": "text/x-python",
   "name": "python",
   "nbconvert_exporter": "python",
   "pygments_lexer": "ipython3",
   "version": "3.12.0"
  }
 },
 "nbformat": 4,
 "nbformat_minor": 2
}
