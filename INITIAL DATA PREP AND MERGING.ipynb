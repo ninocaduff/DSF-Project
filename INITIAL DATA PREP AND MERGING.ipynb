{
 "cells": [
  {
   "cell_type": "code",
   "execution_count": 17,
   "id": "a35b7098-b310-4b84-99c5-50c419837c84",
   "metadata": {},
   "outputs": [],
   "source": [
    "import pandas as pd"
   ]
  },
  {
   "cell_type": "code",
   "execution_count": 62,
   "id": "e8428aff-beac-467a-b734-6b46e4ffaed6",
   "metadata": {},
   "outputs": [],
   "source": [
    "def import_and_transform_air_quality_data():\n",
    "    streets = ['Zch_Rosengartenstrasse', 'Zch_Stampfenbachstrasse', 'Zch_Schimmelstrasse']\n",
    "    street_dataframes = []\n",
    "\n",
    "    for street in streets:\n",
    "        yearly_data = []\n",
    "\n",
    "        for year in range(2012, 2023):\n",
    "            file_path = f'airquality/daily/ugz_ogd_air_d1_{year}.csv'\n",
    "            data = pd.read_csv(file_path)\n",
    "\n",
    "            # Filter for a specific street\n",
    "            street_data = data[data['Standort'] == street]\n",
    "\n",
    "            # Pivot the data\n",
    "            street_wide = street_data.pivot(index='Datum', columns='Parameter', values='Wert')\n",
    "\n",
    "            # Add the year and street columns\n",
    "            street_wide['Year'] = year\n",
    "            street_wide['Street'] = street\n",
    "\n",
    "            yearly_data.append(street_wide)\n",
    "\n",
    "        # Concatenate all years' data for the street\n",
    "        combined_street_data = pd.concat(yearly_data)\n",
    "        street_dataframes.append(combined_street_data)\n",
    "\n",
    "    # Concatenate all streets' data into one DataFrame\n",
    "    combined_data = pd.concat(street_dataframes)\n",
    "\n",
    "    return combined_data"
   ]
  },
  {
   "cell_type": "code",
   "execution_count": 67,
   "id": "c929930e-3669-459e-b559-d4f609bc3d87",
   "metadata": {},
   "outputs": [],
   "source": [
    "airquality = import_and_transform_air_quality_data()"
   ]
  },
  {
   "cell_type": "code",
   "execution_count": 23,
   "id": "11ccb15b-4d74-4d25-b607-9e82722a664b",
   "metadata": {},
   "outputs": [],
   "source": [
    "def import_and_transform_traffic_data():\n",
    "    streets = ['Stampfenbachstrasse (Wasserwerkstrasse)', 'Schimmelstrasse (Werdstrasse)', 'Rosengartenstrasse']\n",
    "    street_dataframes = []\n",
    "\n",
    "    for street in streets:\n",
    "        yearly_data = []\n",
    "\n",
    "        for year in range(2012, 2023):\n",
    "            file_path = f'traffic/sid_dav_verkehrszaehlung_miv_od2031_{year}.csv'\n",
    "            traffic = pd.read_csv(file_path)\n",
    "\n",
    "            # Drop unnecessary columns and filter for a specific street\n",
    "            traffic_small = traffic.drop(columns=['MSID', 'MSName', 'Hoehe', 'EKoord', 'NKoord', 'AnzDetektoren', 'D1ID', 'D2ID', 'D3ID','D4ID', 'Knummer', 'ZSID'])\n",
    "            traffic_rg = traffic_small[traffic_small['ZSName'] == street]\n",
    "            traffic_rg['MessungDatZeit'] = pd.to_datetime(traffic_rg['MessungDatZeit'])\n",
    "\n",
    "            # Aggregate data\n",
    "            daily_traffic = traffic_rg.groupby(traffic_rg['MessungDatZeit'].dt.date)['AnzFahrzeuge'].sum().reset_index(name='TotalDailyTraffic')\n",
    "            daily_traffic['Year'] = year\n",
    "            daily_traffic['Street'] = street\n",
    "\n",
    "            yearly_data.append(daily_traffic)\n",
    "\n",
    "        # Concatenate all years' data for the street\n",
    "        combined_street_data = pd.concat(yearly_data)\n",
    "        street_dataframes.append(combined_street_data)\n",
    "\n",
    "    # Concatenate all streets' data into one DataFrame\n",
    "    combined_data = pd.concat(street_dataframes)\n",
    "\n",
    "    return combined_data\n"
   ]
  },
  {
   "cell_type": "code",
   "execution_count": null,
   "id": "f2577378-1d74-4247-a230-02b9f2f10822",
   "metadata": {},
   "outputs": [],
   "source": [
    "traffic = import_and_transform_traffic_data()"
   ]
  },
  {
   "cell_type": "code",
   "execution_count": null,
   "id": "9a9ca35d-7fc0-4e5d-abf9-9b1ac263a0ee",
   "metadata": {},
   "outputs": [],
   "source": [
    "airquality = pd.read_csv('airquality/airquality.csv')\n",
    "airquality['Datum'] = pd.to_datetime(airquality['Datum']).dt.date\n",
    "#airquality.to_csv('airquality/airquality_dt.csv', index=False)\n"
   ]
  },
  {
   "cell_type": "code",
   "execution_count": 19,
   "id": "d7aafa7f-470b-4553-bab2-7141c0c723ae",
   "metadata": {},
   "outputs": [],
   "source": [
    "traffic = pd.read_csv('traffic/traffic_data.csv') \n",
    "traffic.replace(['Stampfenbachstrasse (Wasserwerkstrasse)','Schimmelstrasse (Werdstrasse)', 'Rosengartenstrasse'],['Zch_Stampfenbachstrasse', 'Zch_Schimmelstrasse', 'Zch_Rosengartenstrasse'], inplace=True)\n",
    "traffic.rename(columns={\"MessungDatZeit\": \"Datum\"}, inplace=True)\n",
    "#traffic.to_csv('traffic/traffic_rtm.csv', index=False)\n"
   ]
  },
  {
   "cell_type": "code",
   "execution_count": 14,
   "id": "3962dab1-a361-4f59-9b03-83c9cab1a27f",
   "metadata": {},
   "outputs": [],
   "source": [
    "airquality_dt = pd.read_csv('airquality/airquality_dt.csv')"
   ]
  },
  {
   "cell_type": "code",
   "execution_count": null,
   "id": "eafda114-b6d4-465a-91ed-1a3b067636dc",
   "metadata": {},
   "outputs": [],
   "source": [
    "merged_df = pd.merge(traffic_rtm, airquality_dt, how=\"left\", on=['Datum', 'Street'])\n",
    "merged_df.drop(columns=merged_df[['Year_x', 'Year_y']])"
   ]
  },
  {
   "cell_type": "code",
   "execution_count": null,
   "id": "5e493b33-7e54-4a2d-bcad-7874908928e7",
   "metadata": {},
   "outputs": [],
   "source": []
  }
 ],
 "metadata": {
  "kernelspec": {
   "display_name": "Python 3 (ipykernel)",
   "language": "python",
   "name": "python3"
  },
  "language_info": {
   "codemirror_mode": {
    "name": "ipython",
    "version": 3
   },
   "file_extension": ".py",
   "mimetype": "text/x-python",
   "name": "python",
   "nbconvert_exporter": "python",
   "pygments_lexer": "ipython3",
   "version": "3.10.12"
  }
 },
 "nbformat": 4,
 "nbformat_minor": 5
}
